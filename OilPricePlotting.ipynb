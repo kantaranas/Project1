{
 "cells": [
  {
   "cell_type": "code",
   "execution_count": 1,
   "metadata": {},
   "outputs": [],
   "source": [
    "%matplotlib inline\n",
    "import matplotlib.pyplot as plt\n",
    "import numpy as np\n",
    "import pandas as pd\n",
    "import requests\n",
    "import json\n",
    "import time\n",
    "from pandas.io.json import json_normalize"
   ]
  },
  {
   "cell_type": "code",
   "execution_count": 2,
   "metadata": {},
   "outputs": [
    {
     "data": {
      "text/html": [
       "<div>\n",
       "<style scoped>\n",
       "    .dataframe tbody tr th:only-of-type {\n",
       "        vertical-align: middle;\n",
       "    }\n",
       "\n",
       "    .dataframe tbody tr th {\n",
       "        vertical-align: top;\n",
       "    }\n",
       "\n",
       "    .dataframe thead th {\n",
       "        text-align: right;\n",
       "    }\n",
       "</style>\n",
       "<table border=\"1\" class=\"dataframe\">\n",
       "  <thead>\n",
       "    <tr style=\"text-align: right;\">\n",
       "      <th></th>\n",
       "      <th>date</th>\n",
       "      <th>Open</th>\n",
       "      <th>High</th>\n",
       "      <th>Low</th>\n",
       "      <th>Close</th>\n",
       "      <th>AdjClose</th>\n",
       "      <th>Volume</th>\n",
       "    </tr>\n",
       "  </thead>\n",
       "  <tbody>\n",
       "    <tr>\n",
       "      <th>0</th>\n",
       "      <td>1998-01-02</td>\n",
       "      <td>74.5000</td>\n",
       "      <td>74.5000</td>\n",
       "      <td>72.6900</td>\n",
       "      <td>73.2500</td>\n",
       "      <td>11.9706</td>\n",
       "      <td>451500</td>\n",
       "    </tr>\n",
       "    <tr>\n",
       "      <th>1</th>\n",
       "      <td>1998-01-05</td>\n",
       "      <td>74.0000</td>\n",
       "      <td>74.8800</td>\n",
       "      <td>73.2500</td>\n",
       "      <td>74.8800</td>\n",
       "      <td>12.2369</td>\n",
       "      <td>770000</td>\n",
       "    </tr>\n",
       "    <tr>\n",
       "      <th>2</th>\n",
       "      <td>1998-01-06</td>\n",
       "      <td>74.9400</td>\n",
       "      <td>74.9400</td>\n",
       "      <td>71.7500</td>\n",
       "      <td>71.9400</td>\n",
       "      <td>11.7565</td>\n",
       "      <td>861600</td>\n",
       "    </tr>\n",
       "    <tr>\n",
       "      <th>3</th>\n",
       "      <td>1998-01-07</td>\n",
       "      <td>70.2500</td>\n",
       "      <td>71.6300</td>\n",
       "      <td>69.8800</td>\n",
       "      <td>71.6300</td>\n",
       "      <td>11.7058</td>\n",
       "      <td>1125100</td>\n",
       "    </tr>\n",
       "    <tr>\n",
       "      <th>4</th>\n",
       "      <td>1998-01-08</td>\n",
       "      <td>71.6300</td>\n",
       "      <td>71.7500</td>\n",
       "      <td>69.3800</td>\n",
       "      <td>69.7500</td>\n",
       "      <td>11.3986</td>\n",
       "      <td>949700</td>\n",
       "    </tr>\n",
       "  </tbody>\n",
       "</table>\n",
       "</div>"
      ],
      "text/plain": [
       "        date     Open     High      Low    Close AdjClose   Volume\n",
       "0 1998-01-02  74.5000  74.5000  72.6900  73.2500  11.9706   451500\n",
       "1 1998-01-05  74.0000  74.8800  73.2500  74.8800  12.2369   770000\n",
       "2 1998-01-06  74.9400  74.9400  71.7500  71.9400  11.7565   861600\n",
       "3 1998-01-07  70.2500  71.6300  69.8800  71.6300  11.7058  1125100\n",
       "4 1998-01-08  71.6300  71.7500  69.3800  69.7500  11.3986   949700"
      ]
     },
     "execution_count": 2,
     "metadata": {},
     "output_type": "execute_result"
    }
   ],
   "source": [
    "#Get data from Alpha Vantage using API request\n",
    "\n",
    "url = \"https://www.alphavantage.co/query\"\n",
    "params = {\n",
    "        \"function\": \"TIME_SERIES_DAILY_ADJUSTED\",\n",
    "        \"symbol\": \"CL\",\n",
    "        \"outputsize\": \"full\",\n",
    "        \"apikey\": \"ac9ba10aa04a7d\"}\n",
    "\n",
    "\n",
    "\n",
    "response = requests.get(url, params=params)\n",
    "data = response.json()\n",
    "\n",
    "def df_from_response(data,\n",
    "         columns=['Open', 'High', 'Low', 'Close', 'AdjClose', 'Volume']):\n",
    "\n",
    "    def convert_response(d):\n",
    "        # convert the response into datetimerecords that can be\n",
    "        # parsed by Pandas\n",
    "        for dt, prec in d['Time Series (Daily)'].items():\n",
    "            r = { 'date': dt}\n",
    "            r.update(prec)\n",
    "            yield r\n",
    "               \n",
    "    # pass your response 'page'\n",
    "    df = pd.DataFrame(convert_response(data))\n",
    "    # rename the columns    \n",
    "    df = df.rename(columns={'1. open': 'Open',\n",
    "                            '2. high': 'High',\n",
    "                            '3. low': 'Low',\n",
    "                            '4. close': 'Close',\n",
    "                            '5. adjusted close': 'AdjClose',\n",
    "                            '6. volume': 'Volume'})\n",
    "    df['date'] = pd.to_datetime(df['date'])\n",
    "    df.set_index('date', inplace=True)\n",
    "    df.sort_index(inplace=True)\n",
    "    # extract the default columns\n",
    "    df = df[columns]\n",
    "    return df\n",
    "\n",
    "df = df_from_response(data)\n",
    "df.reset_index(level=0, inplace=True)\n",
    "df.head()\n",
    "# df = pd.DataFrame({'dates':pd.date_range('2018-01-01','2019-01-01')})\n",
    "# newfd = df.columns = ['date' if x=='datetime' else x for x in df.columns]\n",
    "# nf_h = pd.DataFrame(newfd)\n",
    "# print('Data Frame:', nf_h)"
   ]
  },
  {
   "cell_type": "code",
   "execution_count": 3,
   "metadata": {},
   "outputs": [
    {
     "data": {
      "text/html": [
       "<div>\n",
       "<style scoped>\n",
       "    .dataframe tbody tr th:only-of-type {\n",
       "        vertical-align: middle;\n",
       "    }\n",
       "\n",
       "    .dataframe tbody tr th {\n",
       "        vertical-align: top;\n",
       "    }\n",
       "\n",
       "    .dataframe thead th {\n",
       "        text-align: right;\n",
       "    }\n",
       "</style>\n",
       "<table border=\"1\" class=\"dataframe\">\n",
       "  <thead>\n",
       "    <tr style=\"text-align: right;\">\n",
       "      <th></th>\n",
       "      <th>index</th>\n",
       "      <th>date</th>\n",
       "      <th>Open</th>\n",
       "      <th>High</th>\n",
       "      <th>Low</th>\n",
       "      <th>Close</th>\n",
       "      <th>AdjClose</th>\n",
       "      <th>Volume</th>\n",
       "    </tr>\n",
       "  </thead>\n",
       "  <tbody>\n",
       "    <tr>\n",
       "      <th>0</th>\n",
       "      <td>0</td>\n",
       "      <td>1998-01-02</td>\n",
       "      <td>74.5000</td>\n",
       "      <td>74.5000</td>\n",
       "      <td>72.6900</td>\n",
       "      <td>73.2500</td>\n",
       "      <td>11.9706</td>\n",
       "      <td>451500</td>\n",
       "    </tr>\n",
       "    <tr>\n",
       "      <th>1</th>\n",
       "      <td>1</td>\n",
       "      <td>1998-01-05</td>\n",
       "      <td>74.0000</td>\n",
       "      <td>74.8800</td>\n",
       "      <td>73.2500</td>\n",
       "      <td>74.8800</td>\n",
       "      <td>12.2369</td>\n",
       "      <td>770000</td>\n",
       "    </tr>\n",
       "    <tr>\n",
       "      <th>2</th>\n",
       "      <td>2</td>\n",
       "      <td>1998-01-06</td>\n",
       "      <td>74.9400</td>\n",
       "      <td>74.9400</td>\n",
       "      <td>71.7500</td>\n",
       "      <td>71.9400</td>\n",
       "      <td>11.7565</td>\n",
       "      <td>861600</td>\n",
       "    </tr>\n",
       "    <tr>\n",
       "      <th>3</th>\n",
       "      <td>3</td>\n",
       "      <td>1998-01-07</td>\n",
       "      <td>70.2500</td>\n",
       "      <td>71.6300</td>\n",
       "      <td>69.8800</td>\n",
       "      <td>71.6300</td>\n",
       "      <td>11.7058</td>\n",
       "      <td>1125100</td>\n",
       "    </tr>\n",
       "    <tr>\n",
       "      <th>4</th>\n",
       "      <td>4</td>\n",
       "      <td>1998-01-08</td>\n",
       "      <td>71.6300</td>\n",
       "      <td>71.7500</td>\n",
       "      <td>69.3800</td>\n",
       "      <td>69.7500</td>\n",
       "      <td>11.3986</td>\n",
       "      <td>949700</td>\n",
       "    </tr>\n",
       "  </tbody>\n",
       "</table>\n",
       "</div>"
      ],
      "text/plain": [
       "   index       date     Open     High      Low    Close AdjClose   Volume\n",
       "0      0 1998-01-02  74.5000  74.5000  72.6900  73.2500  11.9706   451500\n",
       "1      1 1998-01-05  74.0000  74.8800  73.2500  74.8800  12.2369   770000\n",
       "2      2 1998-01-06  74.9400  74.9400  71.7500  71.9400  11.7565   861600\n",
       "3      3 1998-01-07  70.2500  71.6300  69.8800  71.6300  11.7058  1125100\n",
       "4      4 1998-01-08  71.6300  71.7500  69.3800  69.7500  11.3986   949700"
      ]
     },
     "execution_count": 3,
     "metadata": {},
     "output_type": "execute_result"
    }
   ],
   "source": [
    "#Convert results into a dataframe and assign an index\n",
    "df1 = pd.DataFrame(df)\n",
    "df1.reset_index(level=0, inplace=True)\n",
    "df1.head()"
   ]
  },
  {
   "cell_type": "code",
   "execution_count": 4,
   "metadata": {},
   "outputs": [
    {
     "data": {
      "text/html": [
       "<div>\n",
       "<style scoped>\n",
       "    .dataframe tbody tr th:only-of-type {\n",
       "        vertical-align: middle;\n",
       "    }\n",
       "\n",
       "    .dataframe tbody tr th {\n",
       "        vertical-align: top;\n",
       "    }\n",
       "\n",
       "    .dataframe thead th {\n",
       "        text-align: right;\n",
       "    }\n",
       "</style>\n",
       "<table border=\"1\" class=\"dataframe\">\n",
       "  <thead>\n",
       "    <tr style=\"text-align: right;\">\n",
       "      <th></th>\n",
       "      <th>index</th>\n",
       "      <th>date</th>\n",
       "      <th>Open</th>\n",
       "      <th>High</th>\n",
       "      <th>Low</th>\n",
       "      <th>Close</th>\n",
       "      <th>AdjClose</th>\n",
       "      <th>Volume</th>\n",
       "    </tr>\n",
       "  </thead>\n",
       "  <tbody>\n",
       "    <tr>\n",
       "      <th>630</th>\n",
       "      <td>630</td>\n",
       "      <td>2000-07-03</td>\n",
       "      <td>59.6300</td>\n",
       "      <td>60.0000</td>\n",
       "      <td>58.6300</td>\n",
       "      <td>59.8800</td>\n",
       "      <td>20.1801</td>\n",
       "      <td>864500</td>\n",
       "    </tr>\n",
       "    <tr>\n",
       "      <th>631</th>\n",
       "      <td>631</td>\n",
       "      <td>2000-07-05</td>\n",
       "      <td>59.0000</td>\n",
       "      <td>59.8100</td>\n",
       "      <td>58.8800</td>\n",
       "      <td>59.3100</td>\n",
       "      <td>19.9880</td>\n",
       "      <td>1610600</td>\n",
       "    </tr>\n",
       "    <tr>\n",
       "      <th>632</th>\n",
       "      <td>632</td>\n",
       "      <td>2000-07-06</td>\n",
       "      <td>59.8800</td>\n",
       "      <td>60.2500</td>\n",
       "      <td>58.7500</td>\n",
       "      <td>58.8100</td>\n",
       "      <td>19.8195</td>\n",
       "      <td>1355900</td>\n",
       "    </tr>\n",
       "    <tr>\n",
       "      <th>633</th>\n",
       "      <td>633</td>\n",
       "      <td>2000-07-07</td>\n",
       "      <td>57.5000</td>\n",
       "      <td>57.9400</td>\n",
       "      <td>56.8800</td>\n",
       "      <td>57.1900</td>\n",
       "      <td>19.2735</td>\n",
       "      <td>2124900</td>\n",
       "    </tr>\n",
       "    <tr>\n",
       "      <th>634</th>\n",
       "      <td>634</td>\n",
       "      <td>2000-07-10</td>\n",
       "      <td>57.2500</td>\n",
       "      <td>57.8800</td>\n",
       "      <td>55.5000</td>\n",
       "      <td>55.6900</td>\n",
       "      <td>18.7680</td>\n",
       "      <td>1475400</td>\n",
       "    </tr>\n",
       "  </tbody>\n",
       "</table>\n",
       "</div>"
      ],
      "text/plain": [
       "     index       date     Open     High      Low    Close AdjClose   Volume\n",
       "630    630 2000-07-03  59.6300  60.0000  58.6300  59.8800  20.1801   864500\n",
       "631    631 2000-07-05  59.0000  59.8100  58.8800  59.3100  19.9880  1610600\n",
       "632    632 2000-07-06  59.8800  60.2500  58.7500  58.8100  19.8195  1355900\n",
       "633    633 2000-07-07  57.5000  57.9400  56.8800  57.1900  19.2735  2124900\n",
       "634    634 2000-07-10  57.2500  57.8800  55.5000  55.6900  18.7680  1475400"
      ]
     },
     "execution_count": 4,
     "metadata": {},
     "output_type": "execute_result"
    }
   ],
   "source": [
    "# Select the date range we want to plot (this one will be for the year 2000)\n",
    "df2 = df1[(df1['date'] > '2000-07-01') & (df1['date'] < '2000-09-30')]\n",
    "df2.head()"
   ]
  },
  {
   "cell_type": "code",
   "execution_count": 5,
   "metadata": {},
   "outputs": [
    {
     "data": {
      "text/html": [
       "<div>\n",
       "<style scoped>\n",
       "    .dataframe tbody tr th:only-of-type {\n",
       "        vertical-align: middle;\n",
       "    }\n",
       "\n",
       "    .dataframe tbody tr th {\n",
       "        vertical-align: top;\n",
       "    }\n",
       "\n",
       "    .dataframe thead th {\n",
       "        text-align: right;\n",
       "    }\n",
       "</style>\n",
       "<table border=\"1\" class=\"dataframe\">\n",
       "  <thead>\n",
       "    <tr style=\"text-align: right;\">\n",
       "      <th></th>\n",
       "      <th>date</th>\n",
       "      <th>Close</th>\n",
       "    </tr>\n",
       "  </thead>\n",
       "  <tbody>\n",
       "    <tr>\n",
       "      <th>630</th>\n",
       "      <td>2000-07-03</td>\n",
       "      <td>59.88</td>\n",
       "    </tr>\n",
       "    <tr>\n",
       "      <th>631</th>\n",
       "      <td>2000-07-05</td>\n",
       "      <td>59.31</td>\n",
       "    </tr>\n",
       "    <tr>\n",
       "      <th>632</th>\n",
       "      <td>2000-07-06</td>\n",
       "      <td>58.81</td>\n",
       "    </tr>\n",
       "    <tr>\n",
       "      <th>633</th>\n",
       "      <td>2000-07-07</td>\n",
       "      <td>57.19</td>\n",
       "    </tr>\n",
       "    <tr>\n",
       "      <th>634</th>\n",
       "      <td>2000-07-10</td>\n",
       "      <td>55.69</td>\n",
       "    </tr>\n",
       "  </tbody>\n",
       "</table>\n",
       "</div>"
      ],
      "text/plain": [
       "          date  Close\n",
       "630 2000-07-03  59.88\n",
       "631 2000-07-05  59.31\n",
       "632 2000-07-06  58.81\n",
       "633 2000-07-07  57.19\n",
       "634 2000-07-10  55.69"
      ]
     },
     "execution_count": 5,
     "metadata": {},
     "output_type": "execute_result"
    }
   ],
   "source": [
    "# Select the column of data needed for plotting\n",
    "df2close = pd.DataFrame(df2[['date','Close']])\n",
    "df2close.Close.dtype\n",
    "df2close.Close = df2close.Close.astype(float)\n",
    "df2close.head()"
   ]
  },
  {
   "cell_type": "code",
   "execution_count": 11,
   "metadata": {},
   "outputs": [
    {
     "data": {
      "text/plain": [
       "date     63\n",
       "Close    63\n",
       "MA_1     62\n",
       "MA_00    53\n",
       "MA_10    53\n",
       "dtype: int64"
      ]
     },
     "execution_count": 11,
     "metadata": {},
     "output_type": "execute_result"
    }
   ],
   "source": [
    "# Use rolling method to plot moving averages\n",
    "df2close['MA_1'] = df2close.Close.rolling(1).mean().shift()\n",
    "df2close['MA_10'] = df2close.Close.rolling(10).mean().shift()\n",
    "df2close.count()"
   ]
  },
  {
   "cell_type": "code",
   "execution_count": 12,
   "metadata": {},
   "outputs": [
    {
     "data": {
      "text/plain": [
       "62"
      ]
     },
     "execution_count": 12,
     "metadata": {},
     "output_type": "execute_result"
    }
   ],
   "source": [
    "#Count of total rows in the new MA_1 colum\n",
    "df2close['MA_1'].count()"
   ]
  },
  {
   "cell_type": "code",
   "execution_count": 13,
   "metadata": {},
   "outputs": [
    {
     "data": {
      "text/plain": [
       "<matplotlib.legend.Legend at 0x21b4910f358>"
      ]
     },
     "execution_count": 13,
     "metadata": {},
     "output_type": "execute_result"
    },
    {
     "data": {
      "image/png": "[encoded data removed]",
      "text/plain": [
       "<Figure size 1080x720 with 1 Axes>"
      ]
     },
     "metadata": {
      "needs_background": "light"
     },
     "output_type": "display_data"
    }
   ],
   "source": [
    "# Plot data and moving averages of 10 rolling standard deviation\n",
    "plt.figure(figsize=(15,10))\n",
    "plt.grid(True)\n",
    "plt.plot(df2close['Close'],label='Close')\n",
    "plt.plot(df2close['MA_1'], label='Moving Avg July 01')\n",
    "plt.plot(df2close['MA_10'], label='Moving Avg of 10 days')\n",
    "plt.legend(loc=2)"
   ]
  },
  {
   "cell_type": "code",
   "execution_count": 14,
   "metadata": {},
   "outputs": [
    {
     "data": {
      "text/plain": [
       "[<matplotlib.lines.Line2D at 0x21b49648a58>]"
      ]
     },
     "execution_count": 14,
     "metadata": {},
     "output_type": "execute_result"
    },
    {
     "data": {
      "image/png": "[encoded data removed]",
      "text/plain": [
       "<Figure size 432x288 with 1 Axes>"
      ]
     },
     "metadata": {
      "needs_background": "light"
     },
     "output_type": "display_data"
    }
   ],
   "source": [
    "# Compute log change (instantaneous rate of return)\n",
    "df2close[\"change\"] = np.log(df2close[\"Close\"] / df2close[\"Close\"].shift())\n",
    "plt.plot(df2close.change)"
   ]
  },
  {
   "cell_type": "code",
   "execution_count": 15,
   "metadata": {},
   "outputs": [
    {
     "data": {
      "text/plain": [
       "<matplotlib.axes._subplots.AxesSubplot at 0x21b4967c6d8>"
      ]
     },
     "execution_count": 15,
     "metadata": {},
     "output_type": "execute_result"
    },
    {
     "data": {
      "image/png": "[encoded data removed]",
      "text/plain": [
       "<Figure size 432x288 with 1 Axes>"
      ]
     },
     "metadata": {
      "needs_background": "light"
     },
     "output_type": "display_data"
    }
   ],
   "source": [
    "#  Compute rolling historical volatility, offset using .shift() method\n",
    "df2close['Volatility'] = df2close.change.rolling(21).std().shift()\n",
    "df2close['Volatility'].plot()"
   ]
  },
  {
   "cell_type": "code",
   "execution_count": 16,
   "metadata": {},
   "outputs": [
    {
     "data": {
      "text/html": [
       "<div>\n",
       "<style scoped>\n",
       "    .dataframe tbody tr th:only-of-type {\n",
       "        vertical-align: middle;\n",
       "    }\n",
       "\n",
       "    .dataframe tbody tr th {\n",
       "        vertical-align: top;\n",
       "    }\n",
       "\n",
       "    .dataframe thead th {\n",
       "        text-align: right;\n",
       "    }\n",
       "</style>\n",
       "<table border=\"1\" class=\"dataframe\">\n",
       "  <thead>\n",
       "    <tr style=\"text-align: right;\">\n",
       "      <th></th>\n",
       "      <th>date</th>\n",
       "      <th>Close</th>\n",
       "      <th>MA_1</th>\n",
       "      <th>MA_00</th>\n",
       "      <th>MA_10</th>\n",
       "      <th>change</th>\n",
       "      <th>Volatility</th>\n",
       "      <th>exp_chng</th>\n",
       "      <th>actual_chng</th>\n",
       "      <th>Magnitude</th>\n",
       "      <th>abs_magni</th>\n",
       "    </tr>\n",
       "  </thead>\n",
       "  <tbody>\n",
       "    <tr>\n",
       "      <th>652</th>\n",
       "      <td>2000-08-03</td>\n",
       "      <td>56.38</td>\n",
       "      <td>56.56</td>\n",
       "      <td>56.139</td>\n",
       "      <td>56.139</td>\n",
       "      <td>-0.003188</td>\n",
       "      <td>0.016370</td>\n",
       "      <td>0.925894</td>\n",
       "      <td>-0.18</td>\n",
       "      <td>-0.194407</td>\n",
       "      <td>0.194407</td>\n",
       "    </tr>\n",
       "    <tr>\n",
       "      <th>653</th>\n",
       "      <td>2000-08-04</td>\n",
       "      <td>55.00</td>\n",
       "      <td>56.38</td>\n",
       "      <td>56.239</td>\n",
       "      <td>56.239</td>\n",
       "      <td>-0.024781</td>\n",
       "      <td>0.016296</td>\n",
       "      <td>0.918752</td>\n",
       "      <td>-1.38</td>\n",
       "      <td>-1.502038</td>\n",
       "      <td>1.502038</td>\n",
       "    </tr>\n",
       "    <tr>\n",
       "      <th>654</th>\n",
       "      <td>2000-08-07</td>\n",
       "      <td>53.56</td>\n",
       "      <td>55.00</td>\n",
       "      <td>56.076</td>\n",
       "      <td>56.076</td>\n",
       "      <td>-0.026531</td>\n",
       "      <td>0.016974</td>\n",
       "      <td>0.933546</td>\n",
       "      <td>-1.44</td>\n",
       "      <td>-1.542505</td>\n",
       "      <td>1.542505</td>\n",
       "    </tr>\n",
       "    <tr>\n",
       "      <th>655</th>\n",
       "      <td>2000-08-08</td>\n",
       "      <td>52.88</td>\n",
       "      <td>53.56</td>\n",
       "      <td>55.832</td>\n",
       "      <td>55.832</td>\n",
       "      <td>-0.012777</td>\n",
       "      <td>0.016874</td>\n",
       "      <td>0.903762</td>\n",
       "      <td>-0.68</td>\n",
       "      <td>-0.752410</td>\n",
       "      <td>0.752410</td>\n",
       "    </tr>\n",
       "    <tr>\n",
       "      <th>656</th>\n",
       "      <td>2000-08-09</td>\n",
       "      <td>52.13</td>\n",
       "      <td>52.88</td>\n",
       "      <td>55.489</td>\n",
       "      <td>55.489</td>\n",
       "      <td>-0.014285</td>\n",
       "      <td>0.016169</td>\n",
       "      <td>0.854997</td>\n",
       "      <td>-0.75</td>\n",
       "      <td>-0.877196</td>\n",
       "      <td>0.877196</td>\n",
       "    </tr>\n",
       "  </tbody>\n",
       "</table>\n",
       "</div>"
      ],
      "text/plain": [
       "          date  Close   MA_1   MA_00   MA_10    change  Volatility  exp_chng  \\\n",
       "652 2000-08-03  56.38  56.56  56.139  56.139 -0.003188    0.016370  0.925894   \n",
       "653 2000-08-04  55.00  56.38  56.239  56.239 -0.024781    0.016296  0.918752   \n",
       "654 2000-08-07  53.56  55.00  56.076  56.076 -0.026531    0.016974  0.933546   \n",
       "655 2000-08-08  52.88  53.56  55.832  55.832 -0.012777    0.016874  0.903762   \n",
       "656 2000-08-09  52.13  52.88  55.489  55.489 -0.014285    0.016169  0.854997   \n",
       "\n",
       "     actual_chng  Magnitude  abs_magni  \n",
       "652        -0.18  -0.194407   0.194407  \n",
       "653        -1.38  -1.502038   1.502038  \n",
       "654        -1.44  -1.542505   1.542505  \n",
       "655        -0.68  -0.752410   0.752410  \n",
       "656        -0.75  -0.877196   0.877196  "
      ]
     },
     "execution_count": 16,
     "metadata": {},
     "output_type": "execute_result"
    }
   ],
   "source": [
    "# price analysis\n",
    "#offset expected change 1-day\n",
    "df2close['exp_chng'] = df2close['Volatility'] * df2close['Close'].shift()\n",
    "df2close['actual_chng'] = df2close['Close'] - df2close['Close'].shift()\n",
    "#running more than once will \n",
    "df2close = pd.DataFrame(df2close.iloc[22:])\n",
    "df2close['Magnitude'] = df2close['actual_chng'] / df2close['exp_chng'] \n",
    "df2close['abs_magni'] = np.abs(df2close['Magnitude'])\n",
    "df2close.head()"
   ]
  },
  {
   "cell_type": "code",
   "execution_count": 17,
   "metadata": {},
   "outputs": [
    {
     "data": {
      "text/plain": [
       "<matplotlib.collections.PathCollection at 0x21b4972f940>"
      ]
     },
     "execution_count": 17,
     "metadata": {},
     "output_type": "execute_result"
    },
    {
     "data": {
      "image/png": "[encoded data removed]",
      "text/plain": [
       "<Figure size 432x288 with 1 Axes>"
      ]
     },
     "metadata": {
      "needs_background": "light"
     },
     "output_type": "display_data"
    }
   ],
   "source": [
    "plt.scatter(df2close['actual_chng'], df2close['abs_magni'])"
   ]
  },
  {
   "cell_type": "code",
   "execution_count": null,
   "metadata": {},
   "outputs": [],
   "source": []
  }
 ],
 "metadata": {
  "kernelspec": {
   "display_name": "Python 3",
   "language": "python",
   "name": "python3"
  },
  "language_info": {
   "codemirror_mode": {
    "name": "ipython",
    "version": 3
   },
   "file_extension": ".py",
   "mimetype": "text/x-python",
   "name": "python",
   "nbconvert_exporter": "python",
   "pygments_lexer": "ipython3",
   "version": "3.7.1"
  }
 },
 "nbformat": 4,
 "nbformat_minor": 2
}
