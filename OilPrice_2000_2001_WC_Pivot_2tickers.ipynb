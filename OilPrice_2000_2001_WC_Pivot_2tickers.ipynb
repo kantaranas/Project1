{
 "cells": [
  {
   "cell_type": "code",
   "execution_count": 78,
   "metadata": {},
   "outputs": [],
   "source": [
    "# Import dependencies\n",
    "%matplotlib inline\n",
    "import matplotlib.pyplot as plt\n",
    "import numpy as np\n",
    "import pandas as pd\n",
    "import requests\n",
    "import json\n",
    "import time\n",
    "from pandas.io.json import json_normalize\n",
    "\n",
    "# The plots will be style using the seaborm library.\n",
    "import seaborn as sns\n",
    "\n",
    "# Use seaborn style defaults and set the default figure size\n",
    "sns.set(rc={'figure.figsize':(11, 4)})\n",
    "\n",
    "# Import a new dependency to format the dates\n",
    "import matplotlib.dates as mdates"
   ]
  },
  {
   "cell_type": "code",
   "execution_count": 79,
   "metadata": {},
   "outputs": [
    {
     "data": {
      "text/html": [
       "<div>\n",
       "<style scoped>\n",
       "    .dataframe tbody tr th:only-of-type {\n",
       "        vertical-align: middle;\n",
       "    }\n",
       "\n",
       "    .dataframe tbody tr th {\n",
       "        vertical-align: top;\n",
       "    }\n",
       "\n",
       "    .dataframe thead th {\n",
       "        text-align: right;\n",
       "    }\n",
       "</style>\n",
       "<table border=\"1\" class=\"dataframe\">\n",
       "  <thead>\n",
       "    <tr style=\"text-align: right;\">\n",
       "      <th></th>\n",
       "      <th>date</th>\n",
       "      <th>Open</th>\n",
       "      <th>High</th>\n",
       "      <th>Low</th>\n",
       "      <th>Close</th>\n",
       "      <th>AdjClose</th>\n",
       "      <th>Volume</th>\n",
       "    </tr>\n",
       "  </thead>\n",
       "  <tbody>\n",
       "    <tr>\n",
       "      <th>0</th>\n",
       "      <td>1998-01-02</td>\n",
       "      <td>74.5000</td>\n",
       "      <td>74.5000</td>\n",
       "      <td>72.6900</td>\n",
       "      <td>73.2500</td>\n",
       "      <td>11.9706</td>\n",
       "      <td>451500</td>\n",
       "    </tr>\n",
       "    <tr>\n",
       "      <th>1</th>\n",
       "      <td>1998-01-05</td>\n",
       "      <td>74.0000</td>\n",
       "      <td>74.8800</td>\n",
       "      <td>73.2500</td>\n",
       "      <td>74.8800</td>\n",
       "      <td>12.2369</td>\n",
       "      <td>770000</td>\n",
       "    </tr>\n",
       "    <tr>\n",
       "      <th>2</th>\n",
       "      <td>1998-01-06</td>\n",
       "      <td>74.9400</td>\n",
       "      <td>74.9400</td>\n",
       "      <td>71.7500</td>\n",
       "      <td>71.9400</td>\n",
       "      <td>11.7565</td>\n",
       "      <td>861600</td>\n",
       "    </tr>\n",
       "    <tr>\n",
       "      <th>3</th>\n",
       "      <td>1998-01-07</td>\n",
       "      <td>70.2500</td>\n",
       "      <td>71.6300</td>\n",
       "      <td>69.8800</td>\n",
       "      <td>71.6300</td>\n",
       "      <td>11.7058</td>\n",
       "      <td>1125100</td>\n",
       "    </tr>\n",
       "    <tr>\n",
       "      <th>4</th>\n",
       "      <td>1998-01-08</td>\n",
       "      <td>71.6300</td>\n",
       "      <td>71.7500</td>\n",
       "      <td>69.3800</td>\n",
       "      <td>69.7500</td>\n",
       "      <td>11.3986</td>\n",
       "      <td>949700</td>\n",
       "    </tr>\n",
       "  </tbody>\n",
       "</table>\n",
       "</div>"
      ],
      "text/plain": [
       "        date     Open     High      Low    Close AdjClose   Volume\n",
       "0 1998-01-02  74.5000  74.5000  72.6900  73.2500  11.9706   451500\n",
       "1 1998-01-05  74.0000  74.8800  73.2500  74.8800  12.2369   770000\n",
       "2 1998-01-06  74.9400  74.9400  71.7500  71.9400  11.7565   861600\n",
       "3 1998-01-07  70.2500  71.6300  69.8800  71.6300  11.7058  1125100\n",
       "4 1998-01-08  71.6300  71.7500  69.3800  69.7500  11.3986   949700"
      ]
     },
     "execution_count": 79,
     "metadata": {},
     "output_type": "execute_result"
    }
   ],
   "source": [
    "# Get data from Alpha Vantage using API request\n",
    "\n",
    "# Pass the URL and state parameters\n",
    "url = \"https://www.alphavantage.co/query\"\n",
    "params = {\n",
    "        \"function\": \"TIME_SERIES_DAILY_ADJUSTED\",\n",
    "        \"symbol\": \"CL\",\n",
    "        \"outputsize\": \"full\",\n",
    "        \"apikey\": \"ac9ba10aa04a7d\"}\n",
    "\n",
    "\n",
    "# Get Json response\n",
    "response = requests.get(url, params=params)\n",
    "data = response.json()\n",
    "\n",
    "# Define the data columns we want passed\n",
    "def df_alpha_response(data,\n",
    "         columns=['Open', 'High', 'Low', 'Close', 'AdjClose', 'Volume']):\n",
    "\n",
    "    def results_alpha_response(d):\n",
    "        # convert the response into datetimerecords that can be parsed by Pandas\n",
    "        for dt, prec in d['Time Series (Daily)'].items():\n",
    "            r = { 'date': dt}\n",
    "            r.update(prec)\n",
    "            yield r\n",
    "               \n",
    "    oil_df = pd.DataFrame(results_alpha_response(data))\n",
    "    # rename the columns    \n",
    "    oil_df = oil_df.rename(columns={'1. open': 'Open',\n",
    "                            '2. high': 'High',\n",
    "                            '3. low': 'Low',\n",
    "                            '4. close': 'Close',\n",
    "                            '5. adjusted close': 'AdjClose',\n",
    "                            '6. volume': 'Volume'})\n",
    "    oil_df['date'] = pd.to_datetime(oil_df['date'])\n",
    "    oil_df.set_index('date', inplace=True)\n",
    "    oil_df.sort_index(inplace=True)\n",
    "    # extract the default columns\n",
    "    oil_df = oil_df[columns]\n",
    "    return oil_df\n",
    "\n",
    "\n",
    "# Reset index\n",
    "oil_df = df_alpha_response(data)\n",
    "oil_df.reset_index(level=0, inplace=True)\n",
    "oil_df.head()"
   ]
  },
  {
   "cell_type": "code",
   "execution_count": 80,
   "metadata": {},
   "outputs": [
    {
     "data": {
      "text/html": [
       "<div>\n",
       "<style scoped>\n",
       "    .dataframe tbody tr th:only-of-type {\n",
       "        vertical-align: middle;\n",
       "    }\n",
       "\n",
       "    .dataframe tbody tr th {\n",
       "        vertical-align: top;\n",
       "    }\n",
       "\n",
       "    .dataframe thead th {\n",
       "        text-align: right;\n",
       "    }\n",
       "</style>\n",
       "<table border=\"1\" class=\"dataframe\">\n",
       "  <thead>\n",
       "    <tr style=\"text-align: right;\">\n",
       "      <th></th>\n",
       "      <th>date</th>\n",
       "      <th>Open</th>\n",
       "      <th>High</th>\n",
       "      <th>Low</th>\n",
       "      <th>Close</th>\n",
       "      <th>AdjClose</th>\n",
       "      <th>Volume</th>\n",
       "    </tr>\n",
       "  </thead>\n",
       "  <tbody>\n",
       "    <tr>\n",
       "      <th>630</th>\n",
       "      <td>2000-07-03</td>\n",
       "      <td>59.6300</td>\n",
       "      <td>60.0000</td>\n",
       "      <td>58.6300</td>\n",
       "      <td>59.8800</td>\n",
       "      <td>20.1801</td>\n",
       "      <td>864500</td>\n",
       "    </tr>\n",
       "    <tr>\n",
       "      <th>631</th>\n",
       "      <td>2000-07-05</td>\n",
       "      <td>59.0000</td>\n",
       "      <td>59.8100</td>\n",
       "      <td>58.8800</td>\n",
       "      <td>59.3100</td>\n",
       "      <td>19.9880</td>\n",
       "      <td>1610600</td>\n",
       "    </tr>\n",
       "    <tr>\n",
       "      <th>632</th>\n",
       "      <td>2000-07-06</td>\n",
       "      <td>59.8800</td>\n",
       "      <td>60.2500</td>\n",
       "      <td>58.7500</td>\n",
       "      <td>58.8100</td>\n",
       "      <td>19.8195</td>\n",
       "      <td>1355900</td>\n",
       "    </tr>\n",
       "    <tr>\n",
       "      <th>633</th>\n",
       "      <td>2000-07-07</td>\n",
       "      <td>57.5000</td>\n",
       "      <td>57.9400</td>\n",
       "      <td>56.8800</td>\n",
       "      <td>57.1900</td>\n",
       "      <td>19.2735</td>\n",
       "      <td>2124900</td>\n",
       "    </tr>\n",
       "    <tr>\n",
       "      <th>634</th>\n",
       "      <td>2000-07-10</td>\n",
       "      <td>57.2500</td>\n",
       "      <td>57.8800</td>\n",
       "      <td>55.5000</td>\n",
       "      <td>55.6900</td>\n",
       "      <td>18.7680</td>\n",
       "      <td>1475400</td>\n",
       "    </tr>\n",
       "  </tbody>\n",
       "</table>\n",
       "</div>"
      ],
      "text/plain": [
       "          date     Open     High      Low    Close AdjClose   Volume\n",
       "630 2000-07-03  59.6300  60.0000  58.6300  59.8800  20.1801   864500\n",
       "631 2000-07-05  59.0000  59.8100  58.8800  59.3100  19.9880  1610600\n",
       "632 2000-07-06  59.8800  60.2500  58.7500  58.8100  19.8195  1355900\n",
       "633 2000-07-07  57.5000  57.9400  56.8800  57.1900  19.2735  2124900\n",
       "634 2000-07-10  57.2500  57.8800  55.5000  55.6900  18.7680  1475400"
      ]
     },
     "execution_count": 80,
     "metadata": {},
     "output_type": "execute_result"
    }
   ],
   "source": [
    "# Select the date range we want to plot (this one will be for the year 2001)\n",
    "oil_df1 = oil_df[(oil_df['date'] > '2000-07-01') & (oil_df['date'] < '2000-09-30')]\n",
    "oil_df2 = oil_df[(oil_df['date'] > '2001-07-01') & (oil_df['date'] < '2001-09-30')]\n",
    "oil_comb = [oil_df1, oil_df2]\n",
    "oil_full = pd.concat(oil_comb)\n",
    "oil_full.head()"
   ]
  },
  {
   "cell_type": "code",
   "execution_count": 81,
   "metadata": {},
   "outputs": [
    {
     "data": {
      "text/plain": [
       "date        datetime64[ns]\n",
       "Open                object\n",
       "High                object\n",
       "Low                 object\n",
       "Close               object\n",
       "AdjClose            object\n",
       "Volume              object\n",
       "dtype: object"
      ]
     },
     "execution_count": 81,
     "metadata": {},
     "output_type": "execute_result"
    }
   ],
   "source": [
    "# Convert date to datetime64\n",
    "oil_full['date'] = pd.to_datetime(oil_full['date'])\n",
    "oil_full.dtypes"
   ]
  },
  {
   "cell_type": "code",
   "execution_count": 82,
   "metadata": {},
   "outputs": [
    {
     "data": {
      "text/html": [
       "<div>\n",
       "<style scoped>\n",
       "    .dataframe tbody tr th:only-of-type {\n",
       "        vertical-align: middle;\n",
       "    }\n",
       "\n",
       "    .dataframe tbody tr th {\n",
       "        vertical-align: top;\n",
       "    }\n",
       "\n",
       "    .dataframe thead th {\n",
       "        text-align: right;\n",
       "    }\n",
       "</style>\n",
       "<table border=\"1\" class=\"dataframe\">\n",
       "  <thead>\n",
       "    <tr style=\"text-align: right;\">\n",
       "      <th></th>\n",
       "      <th>Open</th>\n",
       "      <th>High</th>\n",
       "      <th>Low</th>\n",
       "      <th>Close</th>\n",
       "      <th>AdjClose</th>\n",
       "      <th>Volume</th>\n",
       "    </tr>\n",
       "    <tr>\n",
       "      <th>date</th>\n",
       "      <th></th>\n",
       "      <th></th>\n",
       "      <th></th>\n",
       "      <th></th>\n",
       "      <th></th>\n",
       "      <th></th>\n",
       "    </tr>\n",
       "  </thead>\n",
       "  <tbody>\n",
       "    <tr>\n",
       "      <th>2000-07-03</th>\n",
       "      <td>59.6300</td>\n",
       "      <td>60.0000</td>\n",
       "      <td>58.6300</td>\n",
       "      <td>59.8800</td>\n",
       "      <td>20.1801</td>\n",
       "      <td>864500</td>\n",
       "    </tr>\n",
       "    <tr>\n",
       "      <th>2000-07-05</th>\n",
       "      <td>59.0000</td>\n",
       "      <td>59.8100</td>\n",
       "      <td>58.8800</td>\n",
       "      <td>59.3100</td>\n",
       "      <td>19.9880</td>\n",
       "      <td>1610600</td>\n",
       "    </tr>\n",
       "    <tr>\n",
       "      <th>2000-07-06</th>\n",
       "      <td>59.8800</td>\n",
       "      <td>60.2500</td>\n",
       "      <td>58.7500</td>\n",
       "      <td>58.8100</td>\n",
       "      <td>19.8195</td>\n",
       "      <td>1355900</td>\n",
       "    </tr>\n",
       "    <tr>\n",
       "      <th>2000-07-07</th>\n",
       "      <td>57.5000</td>\n",
       "      <td>57.9400</td>\n",
       "      <td>56.8800</td>\n",
       "      <td>57.1900</td>\n",
       "      <td>19.2735</td>\n",
       "      <td>2124900</td>\n",
       "    </tr>\n",
       "    <tr>\n",
       "      <th>2000-07-10</th>\n",
       "      <td>57.2500</td>\n",
       "      <td>57.8800</td>\n",
       "      <td>55.5000</td>\n",
       "      <td>55.6900</td>\n",
       "      <td>18.7680</td>\n",
       "      <td>1475400</td>\n",
       "    </tr>\n",
       "  </tbody>\n",
       "</table>\n",
       "</div>"
      ],
      "text/plain": [
       "               Open     High      Low    Close AdjClose   Volume\n",
       "date                                                            \n",
       "2000-07-03  59.6300  60.0000  58.6300  59.8800  20.1801   864500\n",
       "2000-07-05  59.0000  59.8100  58.8800  59.3100  19.9880  1610600\n",
       "2000-07-06  59.8800  60.2500  58.7500  58.8100  19.8195  1355900\n",
       "2000-07-07  57.5000  57.9400  56.8800  57.1900  19.2735  2124900\n",
       "2000-07-10  57.2500  57.8800  55.5000  55.6900  18.7680  1475400"
      ]
     },
     "execution_count": 82,
     "metadata": {},
     "output_type": "execute_result"
    }
   ],
   "source": [
    "# Set the date an index\n",
    "oil_full = oil_full.set_index('date')\n",
    "oil_full.head()"
   ]
  },
  {
   "cell_type": "code",
   "execution_count": 83,
   "metadata": {},
   "outputs": [],
   "source": [
    "# Add columns with year, month, and weekday name to the dataframe\n",
    "oil_full['Year'] = oil_full.index.year\n",
    "oil_full['Month'] = oil_full.index.month\n",
    "oil_full['Weekday Name'] = oil_full.index.weekday_name\n",
    "\n",
    "# Display a random sampling of 5 rows\n",
    "# oil_full.sample(5, random_state=0)"
   ]
  },
  {
   "cell_type": "code",
   "execution_count": 84,
   "metadata": {},
   "outputs": [],
   "source": [
    "#For the the column values to be used in the plots, we MUST convert them into numeric values first.\n",
    "# the date was converted in datatime after creating the dataframe\n",
    "oil_full.Open=pd.to_numeric(oil_full.Open)\n",
    "oil_full.High=pd.to_numeric(oil_full.High)\n",
    "oil_full.Low=pd.to_numeric(oil_full.Low)\n",
    "oil_full.Close=pd.to_numeric(oil_full.Close)\n",
    "oil_full.AdjClose=pd.to_numeric(oil_full.AdjClose)\n",
    "oil_full.Volume=pd.to_numeric(oil_full.Volume)\n",
    "oil_full.Year=pd.to_numeric(oil_full.Year)\n",
    "oil_full.Month=pd.to_numeric(oil_full.Month)"
   ]
  },
  {
   "cell_type": "code",
   "execution_count": 85,
   "metadata": {},
   "outputs": [
    {
     "data": {
      "text/html": [
       "<div>\n",
       "<style scoped>\n",
       "    .dataframe tbody tr th:only-of-type {\n",
       "        vertical-align: middle;\n",
       "    }\n",
       "\n",
       "    .dataframe tbody tr th {\n",
       "        vertical-align: top;\n",
       "    }\n",
       "\n",
       "    .dataframe thead th {\n",
       "        text-align: right;\n",
       "    }\n",
       "</style>\n",
       "<table border=\"1\" class=\"dataframe\">\n",
       "  <thead>\n",
       "    <tr style=\"text-align: right;\">\n",
       "      <th></th>\n",
       "      <th>Open</th>\n",
       "      <th>High</th>\n",
       "      <th>Low</th>\n",
       "      <th>Close</th>\n",
       "      <th>AdjClose</th>\n",
       "      <th>Volume</th>\n",
       "      <th>Year</th>\n",
       "      <th>Month</th>\n",
       "      <th>Weekday Name</th>\n",
       "    </tr>\n",
       "    <tr>\n",
       "      <th>date</th>\n",
       "      <th></th>\n",
       "      <th></th>\n",
       "      <th></th>\n",
       "      <th></th>\n",
       "      <th></th>\n",
       "      <th></th>\n",
       "      <th></th>\n",
       "      <th></th>\n",
       "      <th></th>\n",
       "    </tr>\n",
       "  </thead>\n",
       "  <tbody>\n",
       "    <tr>\n",
       "      <th>2000-07-03</th>\n",
       "      <td>59.63</td>\n",
       "      <td>60.00</td>\n",
       "      <td>58.63</td>\n",
       "      <td>59.88</td>\n",
       "      <td>20.1801</td>\n",
       "      <td>864500</td>\n",
       "      <td>2000</td>\n",
       "      <td>7</td>\n",
       "      <td>Monday</td>\n",
       "    </tr>\n",
       "    <tr>\n",
       "      <th>2000-07-05</th>\n",
       "      <td>59.00</td>\n",
       "      <td>59.81</td>\n",
       "      <td>58.88</td>\n",
       "      <td>59.31</td>\n",
       "      <td>19.9880</td>\n",
       "      <td>1610600</td>\n",
       "      <td>2000</td>\n",
       "      <td>7</td>\n",
       "      <td>Wednesday</td>\n",
       "    </tr>\n",
       "    <tr>\n",
       "      <th>2000-07-06</th>\n",
       "      <td>59.88</td>\n",
       "      <td>60.25</td>\n",
       "      <td>58.75</td>\n",
       "      <td>58.81</td>\n",
       "      <td>19.8195</td>\n",
       "      <td>1355900</td>\n",
       "      <td>2000</td>\n",
       "      <td>7</td>\n",
       "      <td>Thursday</td>\n",
       "    </tr>\n",
       "    <tr>\n",
       "      <th>2000-07-07</th>\n",
       "      <td>57.50</td>\n",
       "      <td>57.94</td>\n",
       "      <td>56.88</td>\n",
       "      <td>57.19</td>\n",
       "      <td>19.2735</td>\n",
       "      <td>2124900</td>\n",
       "      <td>2000</td>\n",
       "      <td>7</td>\n",
       "      <td>Friday</td>\n",
       "    </tr>\n",
       "    <tr>\n",
       "      <th>2000-07-10</th>\n",
       "      <td>57.25</td>\n",
       "      <td>57.88</td>\n",
       "      <td>55.50</td>\n",
       "      <td>55.69</td>\n",
       "      <td>18.7680</td>\n",
       "      <td>1475400</td>\n",
       "      <td>2000</td>\n",
       "      <td>7</td>\n",
       "      <td>Monday</td>\n",
       "    </tr>\n",
       "  </tbody>\n",
       "</table>\n",
       "</div>"
      ],
      "text/plain": [
       "             Open   High    Low  Close  AdjClose   Volume  Year  Month  \\\n",
       "date                                                                     \n",
       "2000-07-03  59.63  60.00  58.63  59.88   20.1801   864500  2000      7   \n",
       "2000-07-05  59.00  59.81  58.88  59.31   19.9880  1610600  2000      7   \n",
       "2000-07-06  59.88  60.25  58.75  58.81   19.8195  1355900  2000      7   \n",
       "2000-07-07  57.50  57.94  56.88  57.19   19.2735  2124900  2000      7   \n",
       "2000-07-10  57.25  57.88  55.50  55.69   18.7680  1475400  2000      7   \n",
       "\n",
       "           Weekday Name  \n",
       "date                     \n",
       "2000-07-03       Monday  \n",
       "2000-07-05    Wednesday  \n",
       "2000-07-06     Thursday  \n",
       "2000-07-07       Friday  \n",
       "2000-07-10       Monday  "
      ]
     },
     "execution_count": 85,
     "metadata": {},
     "output_type": "execute_result"
    }
   ],
   "source": [
    "oil_full3 = pd.DataFrame(oil_full)\n",
    "oil_full3.head()"
   ]
  },
  {
   "cell_type": "code",
   "execution_count": 86,
   "metadata": {},
   "outputs": [],
   "source": [
    "oil_Close = pd.pivot_table(oil_full3, index= ['Year', 'Month'], values= [\"Close\", \"Volume\"])"
   ]
  },
  {
   "cell_type": "code",
   "execution_count": 87,
   "metadata": {},
   "outputs": [],
   "source": [
    "oil_Close = pd.pivot_table(oil_full3, index = 'Month', values=\"AdjClose\")"
   ]
  },
  {
   "cell_type": "code",
   "execution_count": 88,
   "metadata": {},
   "outputs": [
    {
     "data": {
      "text/html": [
       "<div>\n",
       "<style scoped>\n",
       "    .dataframe tbody tr th:only-of-type {\n",
       "        vertical-align: middle;\n",
       "    }\n",
       "\n",
       "    .dataframe tbody tr th {\n",
       "        vertical-align: top;\n",
       "    }\n",
       "\n",
       "    .dataframe thead th {\n",
       "        text-align: right;\n",
       "    }\n",
       "</style>\n",
       "<table border=\"1\" class=\"dataframe\">\n",
       "  <thead>\n",
       "    <tr style=\"text-align: right;\">\n",
       "      <th></th>\n",
       "      <th></th>\n",
       "      <th>Close</th>\n",
       "      <th>Volume</th>\n",
       "    </tr>\n",
       "    <tr>\n",
       "      <th>Year</th>\n",
       "      <th>Month</th>\n",
       "      <th></th>\n",
       "      <th></th>\n",
       "    </tr>\n",
       "  </thead>\n",
       "  <tbody>\n",
       "    <tr>\n",
       "      <th rowspan=\"3\" valign=\"top\">2000</th>\n",
       "      <th>7</th>\n",
       "      <td>55.907500</td>\n",
       "      <td>2.099960e+06</td>\n",
       "    </tr>\n",
       "    <tr>\n",
       "      <th>8</th>\n",
       "      <td>53.336087</td>\n",
       "      <td>1.407857e+06</td>\n",
       "    </tr>\n",
       "    <tr>\n",
       "      <th>9</th>\n",
       "      <td>48.816000</td>\n",
       "      <td>3.961010e+06</td>\n",
       "    </tr>\n",
       "    <tr>\n",
       "      <th rowspan=\"3\" valign=\"top\">2001</th>\n",
       "      <th>7</th>\n",
       "      <td>56.105714</td>\n",
       "      <td>2.018305e+06</td>\n",
       "    </tr>\n",
       "    <tr>\n",
       "      <th>8</th>\n",
       "      <td>54.412609</td>\n",
       "      <td>1.424848e+06</td>\n",
       "    </tr>\n",
       "    <tr>\n",
       "      <th>9</th>\n",
       "      <td>56.191333</td>\n",
       "      <td>2.425960e+06</td>\n",
       "    </tr>\n",
       "  </tbody>\n",
       "</table>\n",
       "</div>"
      ],
      "text/plain": [
       "                Close        Volume\n",
       "Year Month                         \n",
       "2000 7      55.907500  2.099960e+06\n",
       "     8      53.336087  1.407857e+06\n",
       "     9      48.816000  3.961010e+06\n",
       "2001 7      56.105714  2.018305e+06\n",
       "     8      54.412609  1.424848e+06\n",
       "     9      56.191333  2.425960e+06"
      ]
     },
     "execution_count": 88,
     "metadata": {},
     "output_type": "execute_result"
    }
   ],
   "source": [
    "oil_Close = pd.pivot_table(oil_full3, index = ['Year','Month'], values= [\"Close\", \"Volume\"])\n",
    "oil_Close"
   ]
  },
  {
   "cell_type": "code",
   "execution_count": 94,
   "metadata": {},
   "outputs": [
    {
     "data": {
      "text/html": [
       "<div>\n",
       "<style scoped>\n",
       "    .dataframe tbody tr th:only-of-type {\n",
       "        vertical-align: middle;\n",
       "    }\n",
       "\n",
       "    .dataframe tbody tr th {\n",
       "        vertical-align: top;\n",
       "    }\n",
       "\n",
       "    .dataframe thead th {\n",
       "        text-align: right;\n",
       "    }\n",
       "</style>\n",
       "<table border=\"1\" class=\"dataframe\">\n",
       "  <thead>\n",
       "    <tr style=\"text-align: right;\">\n",
       "      <th>date</th>\n",
       "      <th>2000</th>\n",
       "      <th>2001</th>\n",
       "    </tr>\n",
       "    <tr>\n",
       "      <th>date</th>\n",
       "      <th></th>\n",
       "      <th></th>\n",
       "    </tr>\n",
       "  </thead>\n",
       "  <tbody>\n",
       "    <tr>\n",
       "      <th>7</th>\n",
       "      <td>55.907500</td>\n",
       "      <td>56.105714</td>\n",
       "    </tr>\n",
       "    <tr>\n",
       "      <th>8</th>\n",
       "      <td>53.336087</td>\n",
       "      <td>54.412609</td>\n",
       "    </tr>\n",
       "    <tr>\n",
       "      <th>9</th>\n",
       "      <td>48.816000</td>\n",
       "      <td>56.191333</td>\n",
       "    </tr>\n",
       "  </tbody>\n",
       "</table>\n",
       "</div>"
      ],
      "text/plain": [
       "date       2000       2001\n",
       "date                      \n",
       "7     55.907500  56.105714\n",
       "8     53.336087  54.412609\n",
       "9     48.816000  56.191333"
      ]
     },
     "execution_count": 94,
     "metadata": {},
     "output_type": "execute_result"
    }
   ],
   "source": [
    "oil_Close = pd.pivot_table(oil_full3, index = oil_full3.index.month, columns = oil_full3.index.year, values= \"Close\")\n",
    "oil_Close"
   ]
  },
  {
   "cell_type": "code",
   "execution_count": 95,
   "metadata": {},
   "outputs": [],
   "source": [
    "# import calendar\n",
    "# d = dict(enumerate(calendar.month_abbr))\n",
    "# oil_full3['Month'] = oil_full3['Month'].map(d)"
   ]
  },
  {
   "cell_type": "code",
   "execution_count": 106,
   "metadata": {},
   "outputs": [
    {
     "data": {
      "text/plain": [
       "<Figure size 432x288 with 0 Axes>"
      ]
     },
     "metadata": {},
     "output_type": "display_data"
    },
    {
     "data": {
      "image/png": "[encoded data removed]",
      "text/plain": [
       "<Figure size 432x288 with 1 Axes>"
      ]
     },
     "metadata": {},
     "output_type": "display_data"
    },
    {
     "data": {
      "text/plain": [
       "<Figure size 432x288 with 0 Axes>"
      ]
     },
     "metadata": {},
     "output_type": "display_data"
    },
    {
     "data": {
      "image/png": "[encoded data removed]",
      "text/plain": [
       "<Figure size 432x288 with 1 Axes>"
      ]
     },
     "metadata": {},
     "output_type": "display_data"
    }
   ],
   "source": [
    "%matplotlib inline\n",
    "import matplotlib.pyplot as plt\n",
    "import seaborn as sns\n",
    "# use Seaborn styles\n",
    "sns.set()  \n",
    "\n",
    "fig = plt.figure()\n",
    "oil_Close = pd.pivot_table(oil_full3, index = oil_full3.index.month, columns = oil_full3.index.year, values= \"Close\", aggfunc='mean').plot()\n",
    "plt.gca().set_xticklabels(['Jul-03', 'Jul-10', 'Jul-17', 'Jul-24', 'Aug-01', 'Aug-08', 'Aug-14', 'Aug-20', 'Sep-01', 'Sept-15'])\n",
    "plt.ylabel(\"Closing Prices\")\n",
    "plt.title('Line Plot - Weekly Crude Oil Stocks from 07/2001 - 09/2001')\n",
    "plt.gcf().autofmt_xdate()\n",
    "plt.legend(loc='center left', bbox_to_anchor=(1.0, 0.5))\n",
    "plt.savefig(\"line1.png\", dpi=150)\n",
    "plt.show()\n",
    "\n",
    "fig = plt.figure()\n",
    "oil_Close = pd.pivot_table(oil_full3, index = oil_full3.index.month, columns = oil_full3.index.year, values= \"Close\", aggfunc='mean').plot(kind= 'bar')\n",
    "plt.gca().set_xticklabels(['July', 'August', 'September'])\n",
    "plt.ylabel(\"Closing Prices\")\n",
    "plt.title('Line Plot - Weekly Crude Oil Stocks from 07/2001 - 09/2001')\n",
    "plt.legend(loc='center left', bbox_to_anchor=(1.0, 0.5))\n",
    "plt.savefig(\"bar1.png\", dpi=150)\n",
    "plt.xticks(rotation=0)\n",
    "plt.show()"
   ]
  },
  {
   "cell_type": "code",
   "execution_count": 107,
   "metadata": {},
   "outputs": [
    {
     "data": {
      "image/png": "[encoded data removed]",
      "text/plain": [
       "<Figure size 432x288 with 2 Axes>"
      ]
     },
     "metadata": {},
     "output_type": "display_data"
    }
   ],
   "source": [
    "order = ['Jan', 'Feb', 'Mar', 'Apr']\n",
    "\n",
    "fig, ax = plt.subplots()\n",
    "ax2 = ax.twiny()\n",
    "\n",
    "oil_Close = pd.pivot_table(oil_full3, index = oil_full3.index.month, columns = oil_full3.index.year, values= \"Close\", aggfunc='mean').plot(kind='bar', ax=ax)\n",
    "\n",
    "oil_Close = pd.pivot_table(oil_full3, index = oil_full3.index.month, columns = oil_full3.index.year, values= \"Close\", aggfunc='mean').plot(kind='bar', ax=ax2, alpha=0.5, legend=False)\n",
    "plt.gca().set_xticklabels(['July', 'August', 'September'])\n",
    "ax2.xaxis.set_visible(False)\n",
    "\n",
    "plt.show() "
   ]
  },
  {
   "cell_type": "code",
   "execution_count": 117,
   "metadata": {},
   "outputs": [
    {
     "name": "stderr",
     "output_type": "stream",
     "text": [
      "C:\\Users\\kantaranas\\Anaconda3\\lib\\site-packages\\matplotlib\\figure.py:98: MatplotlibDeprecationWarning: \n",
      "Adding an axes using the same arguments as a previous axes currently reuses the earlier instance.  In a future version, a new instance will always be created and returned.  Meanwhile, this warning can be suppressed, and the future behavior ensured, by passing a unique label to each axes instance.\n",
      "  \"Adding an axes using the same arguments as a previous axes \"\n"
     ]
    },
    {
     "ename": "TypeError",
     "evalue": "'AxesSubplot' object is not subscriptable",
     "output_type": "error",
     "traceback": [
      "\u001b[1;31m---------------------------------------------------------------------------\u001b[0m",
      "\u001b[1;31mTypeError\u001b[0m                                 Traceback (most recent call last)",
      "\u001b[1;32m<ipython-input-117-01c42441117e>\u001b[0m in \u001b[0;36m<module>\u001b[1;34m\u001b[0m\n\u001b[0;32m     11\u001b[0m \u001b[0max\u001b[0m \u001b[1;33m=\u001b[0m \u001b[0mfig\u001b[0m\u001b[1;33m.\u001b[0m\u001b[0madd_subplot\u001b[0m\u001b[1;33m(\u001b[0m\u001b[1;36m1\u001b[0m\u001b[1;33m,\u001b[0m\u001b[1;36m1\u001b[0m\u001b[1;33m,\u001b[0m\u001b[1;36m1\u001b[0m\u001b[1;33m)\u001b[0m\u001b[1;33m\u001b[0m\u001b[1;33m\u001b[0m\u001b[0m\n\u001b[0;32m     12\u001b[0m \u001b[1;33m\u001b[0m\u001b[0m\n\u001b[1;32m---> 13\u001b[1;33m \u001b[0max\u001b[0m\u001b[1;33m.\u001b[0m\u001b[0mscatter\u001b[0m\u001b[1;33m(\u001b[0m\u001b[0moil_Close\u001b[0m\u001b[1;33m[\u001b[0m\u001b[1;34m'Month'\u001b[0m\u001b[1;33m]\u001b[0m\u001b[1;33m,\u001b[0m\u001b[0moil_Close\u001b[0m\u001b[1;33m[\u001b[0m\u001b[1;34m'Close'\u001b[0m\u001b[1;33m]\u001b[0m\u001b[1;33m)\u001b[0m\u001b[1;33m\u001b[0m\u001b[1;33m\u001b[0m\u001b[0m\n\u001b[0m\u001b[0;32m     14\u001b[0m \u001b[1;33m\u001b[0m\u001b[0m\n\u001b[0;32m     15\u001b[0m \u001b[1;31m#Labels and Tit\u001b[0m\u001b[1;33m\u001b[0m\u001b[1;33m\u001b[0m\u001b[1;33m\u001b[0m\u001b[0m\n",
      "\u001b[1;31mTypeError\u001b[0m: 'AxesSubplot' object is not subscriptable"
     ]
    }
   ],
   "source": [
    "import pandas as pd\n",
    "import numpy as np\n",
    "import random \n",
    "from matplotlib import pyplot as plt \n",
    "import seaborn as sns \n",
    "\n",
    "#Plots in matplotlib reside within a figure object, use plt.figure to create new figure fig=plt.figure()\n",
    "# gure fig=plt.figure()\n",
    "\n",
    "\n",
    "ax = fig.add_subplot(1,1,1)\n",
    "\n",
    "ax.scatter(oil_Close['Month'],oil_Close['Close'])\n",
    "\n",
    "#Labels and Tit\n",
    "plt.title('Sales and Age distribution')\n",
    "plt.xlabel('Age')\n",
    "plt.ylabel('Sales')\n",
    "plt.show()"
   ]
  },
  {
   "cell_type": "code",
   "execution_count": null,
   "metadata": {},
   "outputs": [],
   "source": [
    "# define the date format\n",
    "myFmt = DateFormatter(\"%m-%d\") \n",
    "\n",
    "# plot\n",
    "fig, ax = plt.subplots()\n",
    "ax.scatter(oil_full3.index.values, oil_full3['Close'].values,\n",
    "       color='purple')\n",
    "ax.set(xlabel=\"Date\", ylabel=\"Precipitation (Inches)\",)\n",
    "ax.set_title(\"Daily Precipitation (inches)\\nBoulder, Colorado 2013\")\n",
    "     \n",
    "#ax.xaxis.set_major_locator(mdates.WeekdayLocator())\n",
    "ax.xaxis.set_major_formatter(myFmt) \n"
   ]
  },
  {
   "cell_type": "code",
   "execution_count": null,
   "metadata": {
    "scrolled": true
   },
   "outputs": [],
   "source": [
    "import numpy as np\n",
    "import pandas as pd\n",
    "# oil_full = oil_full.pivot(index='date', columns='Year', values='Close').fillna(0)\n",
    "\n",
    "start = pd.to_datetime('2000-07')\n",
    "end = pd.to_datetime('2000-09')\n",
    "\n",
    "plt = oil_full.pivot(values='Close', columns='Year').plot()"
   ]
  },
  {
   "cell_type": "code",
   "execution_count": null,
   "metadata": {},
   "outputs": [],
   "source": [
    "# Import Matplotlib's `pyplot` module as `plt`\n",
    "import matplotlib.pyplot as plt\n",
    "\n",
    "# Plot the closing prices for `aapl`\n",
    "oil_full['Close'].plot(grid=True)\n",
    "\n",
    "# Show the plot\n",
    "plt.show()"
   ]
  },
  {
   "cell_type": "code",
   "execution_count": null,
   "metadata": {},
   "outputs": [],
   "source": [
    "# Import matplotlib\n",
    "import matplotlib.pyplot as plt \n",
    "\n",
    "# Plot the cumulative daily returns\n",
    "oil_full.plot(figsize=(12,8))\n",
    "\n",
    "# Show the plot\n",
    "plt.show()"
   ]
  },
  {
   "cell_type": "code",
   "execution_count": null,
   "metadata": {},
   "outputs": [],
   "source": [
    "# Import matplotlib \n",
    "import matplotlib.pyplot as plt\n",
    "\n",
    "# Short moving window rolling mean\n",
    "oil_full['42'] = oil_full['AdjClose'].rolling(window=40).mean()\n",
    "\n",
    "# Long moving window rolling mean\n",
    "oil_full['252'] = oil_full['AdjClose'].rolling(window=252).mean()\n",
    "\n",
    "# Plot the adjusted closing price, the short and long windows of rolling means\n",
    "oil_full[['AdjClose', '42', '252']].plot()\n",
    "\n",
    "# Show plot\n",
    "plt.show()"
   ]
  },
  {
   "cell_type": "code",
   "execution_count": null,
   "metadata": {},
   "outputs": [],
   "source": [
    "# Import matplotlib\n",
    "import matplotlib.pyplot as plt \n",
    "\n",
    "# Define the minumum of periods to consider \n",
    "min_periods = 75 \n",
    "\n",
    "# Calculate the volatility\n",
    "vol = oil_full['Close'].rolling(min_periods).std() * np.sqrt(min_periods) \n",
    "\n",
    "# Plot the volatility\n",
    "vol.plot(figsize=(10, 8))\n",
    "\n",
    "# Show the plot\n",
    "plt.show()"
   ]
  },
  {
   "cell_type": "code",
   "execution_count": null,
   "metadata": {},
   "outputs": [],
   "source": [
    "# Initialize the short and long windows\n",
    "short_window = 40\n",
    "long_window = 100\n",
    "\n",
    "# Initialize the `signals` DataFrame with the `signal` column\n",
    "signals = pd.DataFrame(index=oil_full.index)\n",
    "signals['signal'] = 0.0\n",
    "\n",
    "# Create short simple moving average over the short window\n",
    "signals['short_mavg'] = oil_full['Close'].rolling(window=short_window, min_periods=1, center=False).mean()\n",
    "\n",
    "# Create long simple moving average over the long window\n",
    "signals['long_mavg'] = oil_full['Close'].rolling(window=long_window, min_periods=1, center=False).mean()\n",
    "\n",
    "# Create signals\n",
    "signals['signal'][short_window:] = np.where(signals['short_mavg'][short_window:] \n",
    "                                            > signals['long_mavg'][short_window:], 1.0, 0.0)   \n",
    "\n",
    "# Generate trading orders\n",
    "signals['positions'] = signals['signal'].diff()\n",
    "\n",
    "# Print `signals`\n",
    "print(signals)"
   ]
  },
  {
   "cell_type": "code",
   "execution_count": null,
   "metadata": {},
   "outputs": [],
   "source": [
    "# Import `pyplot` module as `plt`\n",
    "import matplotlib.pyplot as plt\n",
    "\n",
    "# Initialize the plot figure\n",
    "fig = plt.figure()\n",
    "\n",
    "# Add a subplot and label for y-axis\n",
    "ax1 = fig.add_subplot(111,  ylabel='Price in $')\n",
    "\n",
    "# Plot the closing price\n",
    "oil_full['Close'].plot(ax=ax1, color='r', lw=2.)\n",
    "\n",
    "# Plot the short and long moving averages\n",
    "signals[['short_mavg', 'long_mavg']].plot(ax=ax1, lw=2.)\n",
    "\n",
    "# Plot the buy signals\n",
    "ax1.plot(signals.loc[signals.positions == 1.0].index, \n",
    "         signals.short_mavg[signals.positions == 1.0],\n",
    "         '^', markersize=10, color='m')\n",
    "         \n",
    "# Plot the sell signals\n",
    "ax1.plot(signals.loc[signals.positions == -1.0].index, \n",
    "         signals.short_mavg[signals.positions == -1.0],\n",
    "         'v', markersize=10, color='k')\n",
    "         \n",
    "# Show the plot\n",
    "plt.show()"
   ]
  },
  {
   "cell_type": "code",
   "execution_count": null,
   "metadata": {},
   "outputs": [],
   "source": [
    "start = pd.to_datetime('2000, 7, 1')\n",
    "\n",
    "end = pd.to_datetime('2001, 9, 30')"
   ]
  },
  {
   "cell_type": "code",
   "execution_count": null,
   "metadata": {},
   "outputs": [],
   "source": [
    "oil_full['2000'].plot(label=\"Close\", figsize=(12,6), title=\"Close Prices\")\n",
    "plt.legend();"
   ]
  },
  {
   "cell_type": "code",
   "execution_count": null,
   "metadata": {},
   "outputs": [],
   "source": [
    "fig, ax = plt.subplots(figsize=(12, 4))\n",
    "\n",
    "oil_df['CLose'] = ax.plot(['2000'], marker='o', linestyle='-')\n",
    "ax.set_ylabel('Crude Oil - Closing Prices ($)')\n",
    "ax.set_title('Line Plot - Weekly Crude Oil Stocks from 07/2001 - 09/2001')\n",
    "\n",
    "# Set x-axis major ticks to weekly interval, on Mondays\n",
    "ax.xaxis.set_major_locator(mdates.WeekdayLocator(byweekday=mdates.MONDAY))\n",
    "\n",
    "# Format x-tick labels as 3-letter month name and day number\n",
    "ax.xaxis.set_major_formatter(mdates.DateFormatter('%b %d'));"
   ]
  },
  {
   "cell_type": "markdown",
   "metadata": {},
   "source": [
    "## Weekly Line Plot - Crude Oil Stocks Comparison 07/00 - 09/00 & 07/01 - 09/01 "
   ]
  },
  {
   "cell_type": "code",
   "execution_count": null,
   "metadata": {},
   "outputs": [],
   "source": [
    "# Visually display side by side the two line plots\n",
    "\n",
    "#Using the dataframes generated above we'll create a weekly line plot\n",
    "fig, ax = plt.subplots(figsize=(12, 4))\n",
    "ax.plot(oil_df.loc['2000-07-01':'2000-09-30', 'Close'], marker='o', linestyle='-')\n",
    "ax.set_ylabel('Crude Oil - Closing Prices ($)')\n",
    "ax.set_title('Line Plot - Weekly Crude Oil Stocks from 07/2000 - 09/2000')\n",
    "\n",
    "# Set x-axis major ticks to weekly interval, on Mondays\n",
    "ax.xaxis.set_major_locator(mdates.WeekdayLocator(byweekday=mdates.MONDAY))\n",
    "\n",
    "# Format x-tick labels as 3-letter month name and day number\n",
    "ax.xaxis.set_major_formatter(mdates.DateFormatter('%b %d'));\n",
    "\n",
    "#-----------------------------------------------------------------------------------\n",
    "\n",
    "fig, ax = plt.subplots(figsize=(12, 4))\n",
    "ax.plot(oil_df.loc['2001-07-01':'2001-09-30', 'Close'], marker='o', linestyle='-')\n",
    "ax.set_ylabel('Crude Oil - Closing Prices ($)')\n",
    "ax.set_title('Line Plot - Weekly Crude Oil Stocks from 07/2001 - 09/2001')\n",
    "\n",
    "# Set x-axis major ticks to weekly interval, on Mondays\n",
    "ax.xaxis.set_major_locator(mdates.WeekdayLocator(byweekday=mdates.MONDAY))\n",
    "\n",
    "# Format x-tick labels as 3-letter month name and day number\n",
    "ax.xaxis.set_major_formatter(mdates.DateFormatter('%b %d'));"
   ]
  },
  {
   "cell_type": "markdown",
   "metadata": {},
   "source": [
    "The line plot for the year 2000 illustrates stability in crude oil stocks, however, there is a sharp decline in mid September. While the 2001 plot, when compared to the prior year, appears less stable."
   ]
  },
  {
   "cell_type": "markdown",
   "metadata": {},
   "source": [
    "-----------------------------------------------------------------------------------"
   ]
  },
  {
   "cell_type": "markdown",
   "metadata": {},
   "source": [
    "## Plot with Resampling and Rolling Mean"
   ]
  },
  {
   "cell_type": "markdown",
   "metadata": {},
   "source": [
    "We will resample the data to a weekly mean time series"
   ]
  },
  {
   "cell_type": "code",
   "execution_count": null,
   "metadata": {},
   "outputs": [],
   "source": [
    "# Specify the data columns we want to include\n",
    "data_columns = ['Open', 'Close', 'AdjClose', 'Volume']\n",
    "\n",
    "# Resample to weekly frequency, aggregating with mean\n",
    "oil_df_weekly_mean = oil_df[data_columns].resample('W').mean()\n",
    "oil_df_weekly_mean.head()"
   ]
  },
  {
   "cell_type": "code",
   "execution_count": null,
   "metadata": {},
   "outputs": [],
   "source": [
    "print(oil_df.shape[0])\n",
    "print(oil_df_weekly_mean.shape[0])"
   ]
  },
  {
   "cell_type": "markdown",
   "metadata": {},
   "source": [
    "#### Line Plot with Frequency and Resampling Functions - Crude Oil 07/2001 - 09/2001"
   ]
  },
  {
   "cell_type": "code",
   "execution_count": null,
   "metadata": {},
   "outputs": [],
   "source": [
    "# Start and end of the date range to extract\n",
    "start, end = '2000-07', '2000-09'\n",
    "\n",
    "# Plot daily and weekly resampled time series together\n",
    "fig, ax = plt.subplots(figsize=(12, 4))\n",
    "\n",
    "ax.plot(oil_df.loc[start:end, 'Close'],\n",
    "        marker='.', linestyle='-', linewidth=0.5, label='Daily Mean')\n",
    "\n",
    "ax.plot(oil_df_weekly_mean.loc[start:end, 'Close'],\n",
    "        marker='o', markersize=8, linestyle='-', label='Weekly Mean Resample')\n",
    "\n",
    "ax.set_ylabel('2000 Crude Oil - Closing Prices')\n",
    "ax.set_title('Crude Oil Stock Prices from 07/00 - 09/00')\n",
    "ax.legend();\n",
    "\n",
    "# Format x-tick labels as 3-letter month name and day number\n",
    "ax.xaxis.set_major_formatter(mdates.DateFormatter('%b %d'));\n",
    "# Rotate the labels at 90 angle when overlapping occur\n",
    "plt.xticks(rotation=90)\n",
    "plt.show()\n",
    "\n",
    "#--------------------------------------------------------------------------------\n",
    "\n",
    "# Start and end of the date range to extract\n",
    "start, end = '2001-07', '2001-09'\n",
    "\n",
    "# Plot daily and weekly resampled time series together\n",
    "fig, ax = plt.subplots(figsize=(12, 4))\n",
    "\n",
    "ax.plot(oil_df.loc[start:end, 'Close'],\n",
    "        marker='.', linestyle='-', linewidth=0.5, label='Daily Mean')\n",
    "\n",
    "ax.plot(oil_df_weekly_mean.loc[start:end, 'Close'],\n",
    "        marker='o', markersize=8, linestyle='-', label='Weekly Mean Resample')\n",
    "\n",
    "ax.set_ylabel('2001 Crude Oil - Closing Prices')\n",
    "ax.set_title('Crude Oil Stock Prices from 07/01 - 09/01')\n",
    "ax.legend();\n",
    "\n",
    "# Format x-tick labels as 3-letter month name and day number\n",
    "ax.xaxis.set_major_formatter(mdates.DateFormatter('%b %d'));\n",
    "# Rotate the labels at 90 angle when overlapping occur\n",
    "plt.xticks(rotation=90)\n",
    "plt.show()"
   ]
  },
  {
   "cell_type": "markdown",
   "metadata": {},
   "source": [
    "The weekly mean is smoother that the daily mean because of higher date frequency."
   ]
  },
  {
   "cell_type": "markdown",
   "metadata": {},
   "source": [
    "---------------------------------------------------------------------------------"
   ]
  },
  {
   "cell_type": "markdown",
   "metadata": {},
   "source": [
    "#### Line Plot with Frequency, Resampling and Rolling Mean Functions - Crude Oil 07/2001 - 09/2001"
   ]
  },
  {
   "cell_type": "code",
   "execution_count": null,
   "metadata": {},
   "outputs": [],
   "source": [
    "# Create a new dataframe centered on the 7-day rolling mean\n",
    "oil_df_7day = oil_df[data_columns].rolling(7, center=True).mean()\n",
    "oil_df_7day.head(10)"
   ]
  },
  {
   "cell_type": "code",
   "execution_count": null,
   "metadata": {},
   "outputs": [],
   "source": [
    "# Start and end of the date range to extract\n",
    "start, end = '2000-07', '2000-09'\n",
    "\n",
    "# Plot daily, weekly resampled, and 7-day rolling mean time series together\n",
    "fig, ax = plt.subplots(figsize=(12, 4))\n",
    "\n",
    "ax.plot(oil_df.loc[start:end, 'Close'],\n",
    "        marker='.', linestyle='-', linewidth=0.5, label='Daily Mean')\n",
    "\n",
    "ax.plot(oil_df_weekly_mean.loc[start:end, 'Close'],\n",
    "        marker='o', markersize=8, linestyle='-', label='Weekly Mean Resample')\n",
    "\n",
    "ax.plot(oil_df_7day.loc[start:end, 'Close'],\n",
    "        marker='.', linestyle='-', label='7 Day Rolling Mean')\n",
    "\n",
    "ax.set_ylabel('2000 Crude Oil - Closing Prices')\n",
    "ax.set_title('Crude Oil Stock Prices from 07/00 - 09/00')\n",
    "ax.legend();\n",
    "\n",
    "# Format x-tick labels as 3-letter month name and day number\n",
    "ax.xaxis.set_major_formatter(mdates.DateFormatter('%b %d'));\n",
    "# Rotate the labels at 90 angle when overlapping occur\n",
    "plt.xticks(rotation=90)\n",
    "plt.show()\n",
    "#-------------------------------------------------------------------------------\n",
    "\n",
    "# Start and end of the date range to extract\n",
    "start, end = '2001-07', '2001-09'\n",
    "\n",
    "# Plot daily, weekly resampled, and 7-day rolling mean time series together\n",
    "fig, ax = plt.subplots(figsize=(12, 4))\n",
    "\n",
    "ax.plot(oil_df.loc[start:end, 'Close'],\n",
    "        marker='.', linestyle='-', linewidth=0.5, label='Daily Mean')\n",
    "\n",
    "ax.plot(oil_df_weekly_mean.loc[start:end, 'Close'],\n",
    "        marker='o', markersize=8, linestyle='-', label='Weekly Mean Resample')\n",
    "\n",
    "ax.plot(oil_df_7day.loc[start:end, 'Close'],\n",
    "        marker='.', linestyle='-', label='7 Day Rolling Mean')\n",
    "\n",
    "ax.set_ylabel('2001 Crude Oil - Closing Prices')\n",
    "ax.set_title('Crude Oil Stock Prices from 07/01 - 09/01')\n",
    "ax.legend();\n",
    "\n",
    "# Format x-tick labels as 3-letter month name and day number\n",
    "ax.xaxis.set_major_formatter(mdates.DateFormatter('%b %d'));\n",
    "# Rotate the labels at 90 angle when overlapping occur\n",
    "plt.xticks(rotation=90)\n",
    "plt.show()"
   ]
  },
  {
   "cell_type": "markdown",
   "metadata": {},
   "source": [
    "The trend line reveals that oil prices reached a sharp decline in the months prior to 9-11. And it remained flat for several years after."
   ]
  },
  {
   "cell_type": "markdown",
   "metadata": {},
   "source": [
    "--------------------------------------------------------------------------------"
   ]
  },
  {
   "cell_type": "markdown",
   "metadata": {},
   "source": [
    "#### Rolling Means Trends plot - Crude Oil 07/2001 - 09/2001"
   ]
  },
  {
   "cell_type": "code",
   "execution_count": null,
   "metadata": {},
   "outputs": [],
   "source": [
    "# The min_periods=360 argument accounts for a few isolated missing days in the\n",
    "# Open and AdjClose Prices time series\n",
    "\n",
    "oil_df_365d = oil_df[data_columns].rolling(window=365, center=True, min_periods=360).mean()"
   ]
  },
  {
   "cell_type": "code",
   "execution_count": null,
   "metadata": {},
   "outputs": [],
   "source": [
    "# Start and end of the date range to extract\n",
    "start, end = '2000', '2019'\n",
    "\n",
    "# Plot daily, 7-day rolling mean, and 365-day rolling mean time series\n",
    "fig, ax = plt.subplots(figsize=(14, 6))\n",
    "\n",
    "ax.plot(oil_df.loc[start:end, 'Close'], marker='.', markersize=2, color='0.6',\n",
    "        linestyle='None', label='Daily Mean')\n",
    "\n",
    "ax.plot(oil_df_7day.loc[start:end, 'Close'], linewidth=2, label='7 Day Rolling Mean')\n",
    "\n",
    "ax.plot(oil_df_365d.loc[start:end, 'Close'], color='0.2', linewidth=3,\n",
    "        label='Trend (365 Day Rolling Mean)')\n",
    "\n",
    "# Set x-ticks to yearly interval and add legend and labels\n",
    "ax.xaxis.set_major_locator(mdates.YearLocator())\n",
    "ax.legend()\n",
    "ax.set_xlabel('Oil Stocks Over the Years ')\n",
    "ax.set_ylabel('Oil Stock Prices ($)')\n",
    "ax.set_title('Price Trend for Crude Oil from 2000 to 2019')\n",
    "# Rotate the labels at 90 angle when overlapping occur\n",
    "plt.xticks(rotation=90)\n",
    "plt.show();"
   ]
  },
  {
   "cell_type": "markdown",
   "metadata": {},
   "source": [
    "The trend line reveals that oil prices were on a steady climb from 2000 through 2013, with several ups and downs in between. But the sharp decline of 2013 has remained flat since."
   ]
  },
  {
   "cell_type": "code",
   "execution_count": null,
   "metadata": {},
   "outputs": [],
   "source": []
  }
 ],
 "metadata": {
  "kernelspec": {
   "display_name": "Python 3",
   "language": "python",
   "name": "python3"
  },
  "language_info": {
   "codemirror_mode": {
    "name": "ipython",
    "version": 3
   },
   "file_extension": ".py",
   "mimetype": "text/x-python",
   "name": "python",
   "nbconvert_exporter": "python",
   "pygments_lexer": "ipython3",
   "version": "3.7.1"
  }
 },
 "nbformat": 4,
 "nbformat_minor": 2
}
